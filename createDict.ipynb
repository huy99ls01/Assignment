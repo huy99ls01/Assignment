{
 "cells": [
  {
   "cell_type": "code",
   "execution_count": 84,
   "metadata": {},
   "outputs": [],
   "source": [
    "import io"
   ]
  },
  {
   "cell_type": "code",
   "execution_count": 85,
   "metadata": {},
   "outputs": [],
   "source": [
    "fileName = \"/Users/bangdo/Documents/STUDY/OOP/Dictionary/dictionary.txt\""
   ]
  },
  {
   "cell_type": "code",
   "execution_count": 94,
   "metadata": {},
   "outputs": [],
   "source": [
    "with open(fileName, \"r\") as file:\n",
    "    i = 0\n",
    "    #print(type(file))\n",
    "    check = False\n",
    "    for line in file:\n",
    "        if (line[0] == \"@\"):\n",
    "            j = 0\n",
    "            for j in range(int(len(line))):\n",
    "                #print(line[i])\n",
    "                check = True\n",
    "                if (line[j] == '/'):\n",
    "                    line = line[1:j-1]\n",
    "                    f = open(\"dict.txt\", \"a\")\n",
    "                    f.write(line + \"\\t\")\n",
    "                    break\n",
    "        elif (line[0] == \"-\" and check == True):\n",
    "            check = False\n",
    "            l = 0\n",
    "            f = open(\"dict.txt\", \"a\")\n",
    "            f.write(line[2:] )\n",
    "            #f.write(line[2:l] + \"\\n\")\n",
    "            \"\"\"\n",
    "            pos1 = line.find(\"(\")\n",
    "            if (pos != -1):\n",
    "                pos2 = line.find(\")\")\n",
    "                line = line[:pos1 -1] + line[pos2 + 1:]\n",
    "                \n",
    "            #leng = int(len(line))\n",
    "            for l in range(int(len(line))):\n",
    "                if (line[l] == \",\" or line[l] == \";\" or line[l] == \"\\n\"):\n",
    "                    f = open(\"dict.txt\", \"a\")\n",
    "                    f.write(line[2:l] + \"\\n\")\n",
    "                    break\n",
    "            \"\"\"\n",
    "            #print(\"OK\")\n",
    "        if (line == \"(Tech) quan hệ 1 đối nhiều\\n\"):\n",
    "            break\n",
    "        i = i + 1"
   ]
  },
  {
   "cell_type": "code",
   "execution_count": 2,
   "metadata": {},
   "outputs": [],
   "source": [
    "fileName2 = \"dict6.txt\""
   ]
  },
  {
   "cell_type": "code",
   "execution_count": 5,
   "metadata": {},
   "outputs": [],
   "source": [
    "with open(fileName2, \"r\") as file:\n",
    "    for line in file:\n",
    "        l = 0\n",
    "        for l in range(int(len(line))):\n",
    "                if (line[l] == \",\" or line[l] == \";\" or line[l] == \"\\n\"):\n",
    "                    f = open(\"dict7.txt\", \"a\")\n",
    "                    f.write(line[:l] + \"\\n\")\n",
    "                    break"
   ]
  },
  {
   "cell_type": "code",
   "execution_count": null,
   "metadata": {},
   "outputs": [],
   "source": []
  }
 ],
 "metadata": {
  "kernelspec": {
   "display_name": "Python 3",
   "language": "python",
   "name": "python3"
  },
  "language_info": {
   "codemirror_mode": {
    "name": "ipython",
    "version": 3
   },
   "file_extension": ".py",
   "mimetype": "text/x-python",
   "name": "python",
   "nbconvert_exporter": "python",
   "pygments_lexer": "ipython3",
   "version": "3.6.4"
  }
 },
 "nbformat": 4,
 "nbformat_minor": 2
}
